{
 "cells": [
  {
   "cell_type": "markdown",
   "metadata": {},
   "source": [
    "# [CPSC 222](https://github.com/GonzagaCPSC222) Intro to Data Science\n",
    "[Gonzaga University](https://www.gonzaga.edu/)\n",
    "\n",
    "[Gina Sprint](http://cs.gonzaga.edu/faculty/sprint/)\n",
    "\n",
    "# Intro to Stats\n",
    "What are our learning objectives for this lesson?\n",
    "* Learn terms related to statistics\n",
    "* Summarize data with simple statistics\n",
    "\n",
    "Content used in this lesson is based upon information in the following sources:\n",
    "* Dr. Mirjeta Beqiri's Stats notes\n",
    "* Dr. Shawn Bowers' Data Mining notes"
   ]
  },
  {
   "cell_type": "markdown",
   "metadata": {},
   "source": [
    "## Warm-up Task(s)\n",
    "* Open VS Code to DataStorytellingExample.ipynb\n",
    "    * Parse the JSON we received and create a Series of category name: score values for Seattle\n",
    "* Open https://github.com/GonzagaCPSC222/U5-Visualizing-Data/blob/master/JupyterNotebookFun/LakeArthurEDA.ipynb on Github\n",
    "* (later) Open VS Code to a new directory, StatsFun\n",
    "    * Make a new Notebook called SummaryStats.ipynb\n",
    "    * Make a new file called utils.py\n",
    "        * Add a definition for a simple `say_hello()` function\n",
    "    * Call `say_hello()` from SummaryStats.ipynb"
   ]
  },
  {
   "cell_type": "markdown",
   "metadata": {},
   "source": [
    "## Today \n",
    "* Announcements\n",
    "    * PQ8 due Monday night\n",
    "    * Nice job finishing DA4!\n",
    "    * Work on DA5\n",
    "    * Quick mass advising session\n",
    "* Today\n",
    "    * Finish DataStorytellingExample.ipynb\n",
    "    * View another example of EDA/storytelling with LakeArthurEDA.ipynb\n",
    "    * Start StatsFun\n",
    "        * Note: for a great 300-level math elective and a more comprehensive intro to stats, consider taking Math 321 Stats for Experimentalists next semester\n",
    "    * IQ6 last ~15 mins of class"
   ]
  },
  {
   "cell_type": "markdown",
   "metadata": {},
   "source": [
    "## Warm-up Task(s)\n",
    "Open VS Code to SummaryStats.ipynb, that's it!"
   ]
  },
  {
   "cell_type": "markdown",
   "metadata": {},
   "source": [
    "## Today\n",
    "* Announcements\n",
    "    * No IQ next class (work on DA5)\n",
    "    * No PQ due next week (work on DA5)\n",
    "    * DA5 is due one week from today. Questions?\n",
    "* Today\n",
    "    * StatsFun (central tendency measures, data dispersion measures, box plots, histograms, empirical rule for normal distributions, etc.)"
   ]
  },
  {
   "cell_type": "markdown",
   "metadata": {},
   "source": [
    "## Introduction to Statistics\n",
    "When we learned about tabular data, we talked about how instances in a dataset are sampled from the \"universe of instances.\" The key here is we have a few observations (e.g. the instances), but not all observations (e.g. the universe). In the stats world, we would say our dataset is a \"sample\" of the \"population\", where the population is the universe of instances. \n",
    "\n",
    "### Example\n",
    "Let's take a look at an example. Suppose we want to find out how many emails a college student receives per day in September of this year. If we asked students in this class how many emails they received during September of this year, we would have a \"sample\". This sample is not representative of the entire population of college students. There are other classes at Gonzaga we did not sample and there are other universities besides Gonzaga. The population would consist of the number of emails **all** college students in the world received during September. It is typically very time consuming and expensive to collect data for an entire population, so we usually collect a sample, then try to draw statistical inferences about the population using the sample. Welcome to wonderful world of stats!! :) \n",
    "\n",
    "### Key Terms\n",
    "* Parameter: any measurable characteristic of a population (e.g. population mean)\n",
    "* Statistic: any measurable characteristic of a sample (e.g. sample mean)\n",
    "* Descriptive statistics: methods used to organize, summarize, and present data in an informative way\n",
    "    * e.g. summary statistics, measures of central tendency, charts, etc.\n",
    "* Inferential statistics: making inferences that go beyond the known data\n",
    "    * e.g. infer info about a population based on a sample, hypothesis testing, etc."
   ]
  },
  {
   "cell_type": "markdown",
   "metadata": {},
   "source": [
    "## Summary Statistics\n",
    "Summary statistics give (initial) insights into a sample (e.g. dataset) by summarizing the data into a single point. Examples of summary statistics include:\n",
    "1. Number of instances (how many rows)\n",
    "2. Min and max attribute values\n",
    "    * Q: Do these make sense for both categorical and continuous attributes?\n",
    "        * Ordinal, but not Nominal\n",
    "        * Much easier if numeric!\n",
    "        * Can only count number of each nominal value\n",
    "    * Q: What should be done with null (NA) values?\n",
    "        * Really, undefined / unknown\n",
    "        * In practice just ignore them\n",
    "3. Middle values of a distribution (aka \"Central Tendency\")\n",
    "    * Mid value: `(max + min) / 2.0` \n",
    "        * AKA \"Midrange\"\n",
    "    * (Arithmetic) Mean $\\bar{x} = (x_1 + x_2 + ... + x_n) / n$\n",
    "        * AKA average\n",
    "        * Python: `sum(column) / float(len(column))`\n",
    "        * Q: Problems with the mean? ... sensitive to extremes (e.g., outliers)\n",
    "        * Q: Make sense for categorical and continuous?\n",
    "            * only interval or ratio (same widths)\n",
    "    * Median\n",
    "        * The middle value in a set of sorted values\n",
    "        * If even number of values, halfway between the two middles\n",
    "        * Better measure for skewed data\n",
    "        * Can be expensive for large data sets (sorting!)\n",
    "    * Mode\n",
    "        * Value(s) that occurs most frequently\n",
    "        * Typically assume data is unimodal (one mode), e.g., normally distributed\n",
    "        * Q: How might we compute the mode in Python?\n",
    "4. Data Dispersion (Spread)\n",
    "    * Range (max - min)\n",
    "    * Quantiles: (Roughly) equal size partitions of data (if sorted from smallest to largest)\n",
    "        * \"2-quantiles\" is the data point that divides into two halves (AKA median)\n",
    "        * \"Quartiles\" is three data points that divide into four groups\n",
    "            * Used as part of box plots (see below)\n",
    "        * Interquartile range (IQR) is distance between 1st and 3rd quartiles\n",
    "        * \"Percentiles\" are 100-quantiles (100 groups)\n",
    "    * Variance and Standard Deviation\n",
    "        * Variance measures how spread out the data is (small implies data close to mean, large implies data spread out) $$\\frac{\\sum_{i=1}^{n}(x_i - \\bar{x})^2}{n}$$\n",
    "        * Standard Deviation is square root of variance\n",
    "            * Python: `numpy.std(vals)` "
   ]
  },
  {
   "cell_type": "markdown",
   "metadata": {},
   "source": [
    "### Box Plots for Displaying Data Dispersion"
   ]
  },
  {
   "cell_type": "code",
   "execution_count": 36,
   "metadata": {},
   "outputs": [
    {
     "data": {
      "image/png": "[encoded data removed]",
      "text/plain": [
       "<Figure size 432x288 with 1 Axes>"
      ]
     },
     "metadata": {
      "needs_background": "light"
     },
     "output_type": "display_data"
    }
   ],
   "source": [
    "# box plot demo\n",
    "import matplotlib.pyplot as plt\n",
    "\n",
    "mean = 100\n",
    "stdev = 5\n",
    "\n",
    "x1 = np.random.normal(mean, stdev, 1000)\n",
    "x2 = np.random.normal(mean, stdev, 100)\n",
    "plt.boxplot([x1, x2])\n",
    "plt.xticks([1, 2], [\"1000 samples\", \"100 samples\"])\n",
    "plt.show()"
   ]
  },
  {
   "cell_type": "markdown",
   "metadata": {},
   "source": [
    "Box plot explained:\n",
    "* The box is 1st and 3rd quantiles of data dispersion\n",
    "* The line in the box is the median (2nd quantile)\n",
    "* The whiskers are $\\pm$ 1.5 * IQR\n",
    "* Points/stars denote outliers"
   ]
  }
 ],
 "metadata": {
  "anaconda-cloud": {},
  "kernelspec": {
   "display_name": "Python 3 (ipykernel)",
   "language": "python",
   "name": "python3"
  },
  "language_info": {
   "codemirror_mode": {
    "name": "ipython",
    "version": 3
   },
   "file_extension": ".py",
   "mimetype": "text/x-python",
   "name": "python",
   "nbconvert_exporter": "python",
   "pygments_lexer": "ipython3",
   "version": "3.9.7"
  }
 },
 "nbformat": 4,
 "nbformat_minor": 4
}
