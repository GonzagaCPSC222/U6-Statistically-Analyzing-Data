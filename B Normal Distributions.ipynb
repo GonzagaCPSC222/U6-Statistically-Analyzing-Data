{
 "cells": [
  {
   "cell_type": "markdown",
   "metadata": {},
   "source": [
    "# [CPSC 222](https://github.com/GonzagaCPSC222) Intro to Data Science\n",
    "[Gonzaga University](https://www.gonzaga.edu/)\n",
    "\n",
    "[Gina Sprint](http://cs.gonzaga.edu/faculty/sprint/)\n",
    "\n",
    "# Normal Distributions\n",
    "What are our learning objectives for this lesson?\n",
    "* Learn about the Z and t distributions\n",
    "* Compute confidence intervals for a population mean\n",
    "\n",
    "Content used in this lesson is based upon information in the following sources:\n",
    "* Dr. Mirjeta Beqiri's Stats notes\n",
    "* [Math is Fun](https://www.mathsisfun.com/data/standard-normal-distribution.html)\n",
    "* [JMP Statistical Discovery](https://www.jmp.com/en_us/statistics-knowledge-portal/t-test/t-distribution.html)"
   ]
  },
  {
   "cell_type": "markdown",
   "metadata": {},
   "source": [
    "## Warm-up Task(s)\n",
    "1. Open StatsFun\n",
    "1. Try as many parts of this practice problem as you can (it helps to draw a picture!!)\n",
    "\n",
    "Adapted from [Khan Academy](https://www.khanacademy.org/math/ap-statistics/density-curves-normal-distribution-ap/stats-normal-distributions/e/empirical_rule): The lifespans of meerkats in a particular zoo are normally distributed. The average meerkat lives 13.1 years; the standard deviation is 1.5 years.\n",
    "1. About 68% of the meerkats have a lifespan between what two values?\n",
    "1. About 95% of the meerkats have a lifespan between what two values?\n",
    "1. About 99.7% of the meerkats have a lifespan between what two values?\n",
    "1. Use the empirical rule to estimate the probability of a meerkat living less than 10.1 years.\n",
    "1. Use the empirical rule to estimate the probability of a meerkat living longer than 14.6 years.\n",
    "1. Use the empirical rule to estimate the probability of a meerkat living between 11.6 and 16.1 years.\n",
    "1. (tricky) What is the probability a meerkat lives < 15 years? > 15 years? \n",
    "    1. We need to learn about the standard normal distribution and Z-scores for this one!!"
   ]
  },
  {
   "cell_type": "markdown",
   "metadata": {},
   "source": [
    "## Today\n",
    "* Announcements\n",
    "    * MA11 due at start of class (no MA rest of week, work on DA5)\n",
    "    * DA5 is due on Thursday. Questions?\n",
    "* Today\n",
    "    * More StatsFun (normal distribution properties, standard normal distribution, Z-scores and Z-tables, t-distribution)"
   ]
  },
  {
   "cell_type": "markdown",
   "metadata": {},
   "source": [
    "## Warm-up Task(s)\n",
    "1. Pull out your notes from last class\n",
    "1. In StatsFun, create a new Notebook called ConfidenceIntervals.ipynb\n",
    "    1. Declare a variable to store the following values: 8.2, 9.1, 7.7, 8.6, 6.9, 11.2, 10.1, 9.9, 8.9, 9.2, 7.5, 10.5\n",
    "    1. Then compute and print the values' `sample` mean and `sample` standard deviation"
   ]
  },
  {
   "cell_type": "markdown",
   "metadata": {},
   "source": [
    "## Today\n",
    "* Announcements\n",
    "    * IQ7 TBD\n",
    "    * Project information and due date timeline is posted to Google Drive folder. Please take a look at it before next class.\n",
    "    * DA5 is due tonight. Questions?\n",
    "    * DA6 is posted\n",
    "* Today\n",
    "    * StatsFun (confidence intervals and start hypothesis testing)"
   ]
  },
  {
   "cell_type": "markdown",
   "metadata": {},
   "source": [
    "## Z-Distribution Kitten Practice Problem\n",
    "Adapted from [stat199review](http://www.stat119review.com/more-material/normal-distribution/empirical-rule/solving-empirical-rule-questions): The weights of a population of kittens are normally distributed with a mean of 3.6 pounds and a standard deviation of 0.4 pounds. Answer the following questions, using the Empirical Rule.\n",
    "1. What percent of kittens weigh between 2.8 and 4.8 pounds? \n",
    "1. What percent of kittens weigh less than 2.4 pounds?\n",
    "1. What value corresponds to a 97.5th percentile of kitten weights? \n",
    "1. What percent of kittens weight less than 3.1 pounds? Hint: for this one, calculate a Z-score and use the Z-table\n",
    "1. (tricky) What percent of kittens weight more than 3.1 pounds? Hint: for this one, also calculate a Z-score and use the Z-table"
   ]
  },
  {
   "cell_type": "markdown",
   "metadata": {},
   "source": [
    "## Confidence Interval Practice Problems\n",
    "### 1 Sales Representatives Incomes (Z-dist)\n",
    "See Dr. Mirjeta Beqiri's step-by-step instructional video available [here](https://youtu.be/Z0vyrng9824)\n",
    "\n",
    "### 2 Phone Battery Life (t-dist)\n",
    "Adapted from [Khan Academy](https://www.khanacademy.org/math/ap-statistics/estimating-confidence-ap/one-sample-t-interval-mean/e/calculating-one-sample-t-interval-mean): Olivia works at a company that creates mobile phones. She wanted to estimate the mean amount of time their new phone's battery lasts with regular use after a full charge. She took a random sample of 6 of these phones and randomly assigned each of them to a volunteer. She instructed them to fully charge the phones and use them as they regularly would until the battery died (without recharging the phone). The data they reported is shown below (Mean: 9 hours; Standard deviation: 2.07 hours). Assume the data is normal. Compute a 90% confidence interval for the mean battery life (in hours).\n",
    "\n",
    "Phone|1|2|3|4|5|6\n",
    "-|-|-|-|-|-|-\n",
    "Battery life (hours)|8.0|6.0|10.5|9.0|8.5|12.0"
   ]
  },
  {
   "cell_type": "markdown",
   "metadata": {},
   "source": [
    "## The Normal (Z) Distribution\n",
    "Here is a great introduction the normal (AKA Gaussian) distribution from [Math is Fun](https://www.mathsisfun.com/data/standard-normal-distribution.html):\n",
    "\n",
    "![](https://github.com/GonzagaCPSC222/U6-Statistically-Analyzing-Data/raw/master/figures/intro_normal_distribution.png)\n",
    "    \n",
    "![](https://github.com/GonzagaCPSC222/U6-Statistically-Analyzing-Data/raw/master/figures/intro_empirical_rule.png)\n",
    "\n",
    "### Data Science Application: Empirical Rule\n",
    "The empirical rule for a normal (i.e., Gaussian) data distribution states that\"\n",
    "* About 68% of values are within 1 standard deviation of the mean\n",
    "* About 95% of values are within 2 standard deviations of the mean\n",
    "* About 99.7% of values are within 3 standard deviations of the mean\n",
    "\n",
    "This property of normal distributions is important because if we assume our sample is normal (and alot of data is normal), then we can estimate how likely it is to observe a certain value.\n",
    "\n",
    "Let's use Numpy to sample some data from a normal distribution to see the empirical rule in action!"
   ]
  },
  {
   "cell_type": "code",
   "execution_count": 34,
   "metadata": {},
   "outputs": [
    {
     "data": {
      "image/png": "[encoded data removed]",
      "text/plain": [
       "<Figure size 432x288 with 1 Axes>"
      ]
     },
     "metadata": {
      "needs_background": "light"
     },
     "output_type": "display_data"
    },
    {
     "name": "stdout",
     "output_type": "stream",
     "text": [
      "Within +/1 stdev: 68.60%\n",
      "Within +/2 stdev: 96.20%\n",
      "Within +/3 stdev: 99.70%\n"
     ]
    }
   ],
   "source": [
    "import numpy as np\n",
    "import matplotlib.pyplot as plt\n",
    "\n",
    "# consistent values\n",
    "mean = 100\n",
    "num_samples = 1000\n",
    "\n",
    "# large variance, large standard deviation\n",
    "stdev = 25\n",
    "large_stdev = np.random.normal(mean, stdev, num_samples) # mean, stdev, num_samples\n",
    "plt.hist(large_stdev, bins=30, edgecolor=\"black\", facecolor=\"green\")\n",
    "\n",
    "# small variance, small standard deviation\n",
    "stdev = 5\n",
    "small_stdev = np.random.normal(mean, stdev, num_samples) # mean, stdev, num_samples\n",
    "plt.hist(small_stdev, bins=30, edgecolor=\"black\", facecolor=\"red\")\n",
    "plt.show()\n",
    "\n",
    "# test the empirical rule\n",
    "within_1stdev = 0\n",
    "within_2stdev = 0\n",
    "within_3stdev = 0\n",
    "\n",
    "for value in small_stdev:\n",
    "    if mean - 1 * stdev <= value <= mean + 1 * stdev:\n",
    "        within_1stdev += 1\n",
    "    if mean - 2 * stdev <= value <= mean + 2 * stdev:\n",
    "        within_2stdev += 1\n",
    "    if mean - 3 * stdev <= value <= mean + 3 * stdev:\n",
    "        within_3stdev += 1\n",
    "print(\"Within +/1 stdev: %.2f%%\" %(within_1stdev / num_samples * 100))\n",
    "print(\"Within +/2 stdev: %.2f%%\" %(within_2stdev / num_samples * 100))\n",
    "print(\"Within +/3 stdev: %.2f%%\" %(within_3stdev / num_samples * 100))"
   ]
  },
  {
   "cell_type": "markdown",
   "metadata": {},
   "source": [
    "## Standard Normal Distribution\n",
    "The standard normal distribution is a normal Z-distribution with mean = 0 and standard deviation = 0. The standard normal distribution is incredibly useful because we can use the empirical rule (and more exact measures of probability) with it. Here is a great intro to the standard normal distribution from [Math is Fun](https://www.mathsisfun.com/data/confidence-interval.html):\n",
    "\n",
    "![](https://raw.githubusercontent.com/GonzagaCPSC222/U6-Statistically-Analyzing-Data/master/figures/intro_standard_normal.png)\n",
    "\n",
    "We can convert an observation, $X$, from a normal distribution into a standard normal Z-value (AKA Z-score) using the formula Z-score = $\\frac{X -\\mu}{\\sigma}$, where $\\mu$ is the population mean and $\\sigma$ is the population standard deviation. This Z-score will tell us the distance between the observed value $X$ and the mean, expressed in terms of the number of standard deviations. With this Z-score, we can determine the probability observing values less than or greater than the Z-score.\n",
    "\n",
    "Here is an example of this adapted from [Khan Academy](https://www.khanacademy.org/math/ap-statistics/density-curves-normal-distribution-ap/measuring-position/e/z_scores_1):\n",
    ">The grades on a history midterm at Almond are roughly symmetric with $\\mu = 85$ and $\\sigma = 2.0$. Michael scored 86 on the exam. Find the z-score for Michael's exam grade. Round to two decimal places.\n",
    "\n",
    "Z-score = $\\frac{X - \\mu}{\\sigma} = \\frac{86 - 85}{2.0} = 0.5$ This means that Michael's score is 0.5 standard deviations away from the mean. Using a Z-table to look up probabilities for Z-scores, we could find out the probability that a student receives a score above or below 86. \n",
    "\n",
    "Z-table from https://sixsigmastudyguide.com/wp-content/uploads/2014/04/z-table.jpg:\n",
    "\n",
    "![](https://sixsigmastudyguide.com/wp-content/uploads/2014/04/z-table.jpg)\n",
    "\n",
    "Using this Z-table, we see that a Z-score of 0.5 corresponds to a probability value of 0.6915. This means that the probability of receiving a score on the exam of 86 or less is 69.15% and the probability of receiving a score greater than 86 is 100% - 69.15% = 30.85%. Do you see how with the standard normal distribution, as compared to the empirical rule, we can compute more general results based on any observation (not just observations that correspond with +/- 1, 2, or 3 standard deviations)? Things are getting interesting now!"
   ]
  },
  {
   "cell_type": "markdown",
   "metadata": {},
   "source": [
    "## Confidence Intervals\n",
    "Now that we are familiar with the standard normal distribution, we are ready to use it to make statistical inferences. Let's start with confidence intervals. Here is a great introduction to confidence intervals from [Math is Fun](https://www.mathsisfun.com/data/confidence-interval.html):\n",
    "\n",
    "![](https://github.com/GonzagaCPSC222/U6-Statistically-Analyzing-Data/raw/master/figures/intro_confidence_interval.png)\n",
    "\n",
    "![](https://github.com/GonzagaCPSC222/U6-Statistically-Analyzing-Data/raw/master/figures/calculating_confidence_interval.png)\n",
    "\n",
    "Using this table, we see that a Z-score of 0.5 correspond to a P-value of 0.69"
   ]
  },
  {
   "cell_type": "markdown",
   "metadata": {},
   "source": [
    "## The t-distribution\n",
    "Here is a great introduction to the t-distribution from [JMP](https://www.jmp.com/en_us/statistics-knowledge-portal/t-test/t-distribution.html)\n",
    "\n",
    "![](https://github.com/GonzagaCPSC222/U6-Statistically-Analyzing-Data/raw/master/figures/intro_t_distribution.png)\n",
    "\n",
    "![](https://github.com/GonzagaCPSC222/U6-Statistically-Analyzing-Data/raw/master/figures/intro_t_distribution_graph.png)"
   ]
  },
  {
   "cell_type": "markdown",
   "metadata": {},
   "source": [
    "### t-distribution Confidence Intervals\n",
    "Notice how the instructions above for calculating a confidence interval for a population mean using the Z distribution? This is appropriate if you have the population standard deviation, or if you have the sample standard deviation and your sample size (n) is at least 30 observations. If you have less than 30 observations, you can use the t-distribution instead (see the section below for more on the t-distribution). Here are the confidence interval formulas for both cases:\n",
    "* Population standard deviation or sample standard deviation w/30+ samples (use Z-value): $\\overline{X} \\pm Z \\frac{s}{\\sqrt{n}}$\n",
    "* Population standard deviation or sample standard deviation w/30+ samples (use t-value): $\\overline{X} \\pm t \\frac{s}{\\sqrt{n}}$\n",
    "\n",
    "To find the t-value associated with your margin of error, use the following t-table:\n",
    "\n",
    "![](https://media.cheggcdn.com/media/cb1/s675x1024/cb100490-5be7-4807-8972-c0d984f9e9fc/php3o1s6N.png)\n",
    "\n",
    "(image from https://media.cheggcdn.com/media/cb1/s675x1024/cb100490-5be7-4807-8972-c0d984f9e9fc/php3o1s6N.png)\n",
    "\n",
    "To use this table, you will need to compute the degrees of freedom (df = n - 1, where n is the number of observations in the sample) and the level of confidence for the confidence interval (e.g. see the small Z-table used in the example problem above).\n",
    "\n",
    "### Confidence Interval Example w/t-distribution\n",
    "Example (from [lumenlearning.com](https://courses.lumenlearning.com/introstats1/chapter/a-single-population-mean-using-the-student-t-distribution/)): \n",
    ">You do a study of hypnotherapy to determine how effective it is in increasing the number of hours of sleep subjects get each night. You measure hours of sleep for 12 subjects with the following results. Construct a 95% confidence interval for the mean number of hours slept for the population (assumed normal) from which you took the data.\n",
    "8.2, 9.1, 7.7, 8.6, 6.9, 11.2, 10.1, 9.9, 8.9, 9.2, 7.5, 10.5\n",
    "\n",
    "First, identify your variables from the prompt and compute your t-value from the table (we want to use the t-distribution because we do not have the population mean and because we have a small sample size):"
   ]
  },
  {
   "cell_type": "code",
   "execution_count": 1,
   "metadata": {},
   "outputs": [
    {
     "name": "stdout",
     "output_type": "stream",
     "text": [
      "Xbar: 8.983333333333333 s: 1.2904074996494381 n: 12 df: 11\n"
     ]
    }
   ],
   "source": [
    "import numpy as np\n",
    "\n",
    "x = [8.2, 9.1, 7.7, 8.6, 6.9, 11.2, 10.1, 9.9, 8.9, 9.2, 7.5, 10.5]\n",
    "Xbar = np.mean(x)\n",
    "s = np.std(x, ddof=1) # to compute sample stdev, default is population\n",
    "n = len(x)\n",
    "df = n - 1\n",
    "print(\"Xbar:\", Xbar, \"s:\", s, \"n:\", n, \"df:\", df)"
   ]
  },
  {
   "cell_type": "markdown",
   "metadata": {},
   "source": [
    "Next, use the t-table to look up your t-value (df = 11, 95% confidence interval):"
   ]
  },
  {
   "cell_type": "code",
   "execution_count": 2,
   "metadata": {},
   "outputs": [
    {
     "name": "stdout",
     "output_type": "stream",
     "text": [
      "t: 2.201\n"
     ]
    }
   ],
   "source": [
    "t = 2.201 # from t-distribution table (use df and 95% CI)\n",
    "print(\"t:\", t)"
   ]
  },
  {
   "cell_type": "markdown",
   "metadata": {},
   "source": [
    "Then, compute your margin of error (what comes after the $\\pm$ term) to create your confidence interval:"
   ]
  },
  {
   "cell_type": "code",
   "execution_count": 22,
   "metadata": {},
   "outputs": [
    {
     "name": "stdout",
     "output_type": "stream",
     "text": [
      "margin of error: 0.81989133757425\n",
      "confidence interval: (8.163441995759083, 9.803224670907582)\n"
     ]
    }
   ],
   "source": [
    "margin_of_error = t * s / np.sqrt(n)\n",
    "print(\"margin of error:\", margin_of_error)\n",
    "confidence_interval = (Xbar - margin_of_error, Xbar + margin_of_error)\n",
    "print(\"confidence interval:\", confidence_interval)"
   ]
  },
  {
   "cell_type": "markdown",
   "metadata": {},
   "source": [
    "This means that with 95% confidence, the population mean for this sample of data is within (8.16, 9.80). We can visualize this confidence interval with Matplotlib."
   ]
  },
  {
   "cell_type": "code",
   "execution_count": 21,
   "metadata": {},
   "outputs": [
    {
     "data": {
      "image/png": "[encoded data removed]",
      "text/plain": [
       "<Figure size 432x288 with 1 Axes>"
      ]
     },
     "metadata": {
      "needs_background": "light"
     },
     "output_type": "display_data"
    },
    {
     "data": {
      "image/png": "[encoded data removed]",
      "text/plain": [
       "<Figure size 432x288 with 1 Axes>"
      ]
     },
     "metadata": {
      "needs_background": "light"
     },
     "output_type": "display_data"
    }
   ],
   "source": [
    "import matplotlib.pyplot as plt\n",
    "\n",
    "# using a point for the mean and line for the interval\n",
    "plt.plot([1, 1], confidence_interval, marker=\"_\", color=\"blue\")\n",
    "plt.plot([1], [Xbar], marker=\"o\", color=\"blue\")\n",
    "# or can make it horizontal by switching \"Xs\" and \"Ys\"\n",
    "\n",
    "# using a bar for the mean and error lines for the interval\n",
    "plt.figure()\n",
    "plt.bar([1], [Xbar], yerr=margin_of_error)\n",
    "plt.show()"
   ]
  },
  {
   "cell_type": "markdown",
   "metadata": {},
   "source": [
    "Lastly, I'll note that the examples in this lesson all computed a confidence interval for a population mean. You can create confidence intervals for other parameters as well!! In this class, we are going to just scratch the surface of what can be done with normal distributions by constructing confidence intervals for the mean and conducting hypothesis testing using mean(s). That's our next topic!!"
   ]
  }
 ],
 "metadata": {
  "anaconda-cloud": {},
  "kernelspec": {
   "display_name": "Python 3 (ipykernel)",
   "language": "python",
   "name": "python3"
  },
  "language_info": {
   "codemirror_mode": {
    "name": "ipython",
    "version": 3
   },
   "file_extension": ".py",
   "mimetype": "text/x-python",
   "name": "python",
   "nbconvert_exporter": "python",
   "pygments_lexer": "ipython3",
   "version": "3.9.7"
  }
 },
 "nbformat": 4,
 "nbformat_minor": 4
}
