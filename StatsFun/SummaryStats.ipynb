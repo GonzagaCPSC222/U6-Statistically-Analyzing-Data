{
 "cells": [
  {
   "cell_type": "markdown",
   "metadata": {},
   "source": [
    "# Stats Overview\n",
    "Recall we said that instances are sampled from the \"universe of instances\"\n",
    "\n",
    "In stats, we say that a sample (of observations) comes from a population\n",
    "* dataset = sample\n",
    "* universe of instances = population\n",
    "\n",
    "Example\n",
    "* Population: all college students in the US\n",
    "    * Expensive to collect data from in terms of time, resources, etc.\n",
    "* Sample: students in CPSC 222\n",
    "    * Inexpensive\n",
    "\n",
    "Some more key stats terms\n",
    "* Parameter: any measurable characteristc of a population\n",
    "    * Example: $\\mu$ population mean\n",
    "* Statistic: any measureabkle characteristic of a sample\n",
    "    * Example: $\\overline{x}$ sample mean\n",
    "* Descriptive stats: stats that organize and summarize data\n",
    "    * Example: central tendency measures, data dispersion measures, etc.\n",
    "* Inferential stats: stats that infer something above and beyond what is known from the data\n",
    "    * Example: inferring something about the population based on a sample"
   ]
  },
  {
   "cell_type": "markdown",
   "metadata": {},
   "source": [
    "## Summary Stats\n",
    "Summarize a data distribution into a single value of a set of values. Examples:\n",
    "* Number of data points\n",
    "* Min and max\n",
    "    * Do not make sense for nominal attributes"
   ]
  },
  {
   "cell_type": "code",
   "execution_count": 1,
   "metadata": {},
   "outputs": [
    {
     "name": "stdout",
     "output_type": "stream",
     "text": [
      "0    6\n",
      "1    8\n",
      "2    3\n",
      "3    8\n",
      "4    8\n",
      "5    7\n",
      "dtype: int64\n",
      "Number of data points: 6 6 (6,)\n",
      "Min: 3 Max: 8\n"
     ]
    }
   ],
   "source": [
    "import pandas as pd\n",
    "\n",
    "x = [6, 8, 3, 8, 8, 7]\n",
    "ser = pd.Series(x)\n",
    "print(ser)\n",
    "print(\"Number of data points:\", len(ser), ser.size, ser.shape)\n",
    "print(\"Min:\", ser.min(), \"Max:\", ser.max())"
   ]
  },
  {
   "cell_type": "markdown",
   "metadata": {},
   "source": [
    "### Central Tendency\n",
    "Measures the middle value(s) of a data distribution\n",
    "* (Arithmetic) mean (AKA average)\n",
    "    * Sensitive to outliers\n",
    "    * Should only apply it when you know your data is numeric\n",
    "* Median: middle value in a (sorted) list of numbers\n",
    "* Mode: most frequently occurring value(s)\n",
    "* Mid-value: $\\frac{min + max}{2}$\n",
    "\n",
    "TASK: calculate these measures with `ser`"
   ]
  },
  {
   "cell_type": "markdown",
   "metadata": {},
   "source": [
    "### Data Dispersion (Spread)\n",
    "Meaures how spread out the data are\n",
    "* Range: max - min\n",
    "* Quantiles\n",
    "* Variance & standard deviation\n",
    "\n",
    "Quantiles: divided (sorted) data into roughly equal sized partitions\n",
    "* 2 quantiles: 1 data point that divides data into 2 halves (AKA median)\n",
    "* Quartiles: 3 data points the divide data into 4 quarters\n",
    "* Percentiles: 99 data points that divide data into 100 groups/partitions\n",
    "    * 25th percentile (AKA 1st quartile)\n",
    "    * 50th percentile (AKA 2nd quartile AKA median)\n",
    "    * 75th percentile (AKA 3rd quartile)\n",
    "* IQR (interquartile range): 3rd quartile - 1st quartile\n",
    "\n",
    "Boxplots show percentile information in a nice data viz"
   ]
  },
  {
   "cell_type": "code",
   "execution_count": 2,
   "metadata": {},
   "outputs": [
    {
     "data": {
      "image/png": "[encoded data removed]",
      "text/plain": [
       "<Figure size 576x288 with 1 Axes>"
      ]
     },
     "metadata": {
      "needs_background": "light"
     },
     "output_type": "display_data"
    }
   ],
   "source": [
    "import numpy as np\n",
    "import matplotlib.pyplot as plt\n",
    "\n",
    "# lets generate some random \"normal\" data\n",
    "mean = 100\n",
    "stdev = 25\n",
    "num_samples = 1000\n",
    "np.random.seed(0) # for reproducibility\n",
    "x1 = np.random.normal(mean, stdev, num_samples)\n",
    "x2 = np.random.normal(mean, stdev / 5, num_samples)\n",
    "\n",
    "# horizontal line in the box: median\n",
    "# the box itself: IQR\n",
    "# the \"whiskers\" (lines) that extend from the box: 1.5 * IQR +/- 3rd & 1st quartile\n",
    "# the circles are outliers\n",
    "# https://matplotlib.org/stable/api/_as_gen/matplotlib.pyplot.boxplot.html\n",
    "\n",
    "# TASK: add another box to the chart for a normal distribution w/same mean and stdev of 5\n",
    "\n",
    "plt.figure(figsize=(8, 4))\n",
    "plt.boxplot([x1, x2])\n",
    "plt.show()"
   ]
  },
  {
   "cell_type": "markdown",
   "metadata": {},
   "source": [
    "Variance: measures how spread out data are from the mean\n",
    "* Low variance: data are close to the mean\n",
    "* High variance: data are quite spread out from the mean\n",
    "\n",
    "More commonly, people use standard deviation because standard deviation is in the same units as the mean\n",
    "* Standard deviation is the square root of variance"
   ]
  },
  {
   "cell_type": "code",
   "execution_count": 4,
   "metadata": {},
   "outputs": [
    {
     "name": "stdout",
     "output_type": "stream",
     "text": [
      "variance: 3.866666666666667\n",
      "stdev: 1.9663841605003503 1.9663841605003503\n"
     ]
    },
    {
     "data": {
      "image/png": "[encoded data removed]",
      "text/plain": [
       "<Figure size 432x288 with 1 Axes>"
      ]
     },
     "metadata": {
      "needs_background": "light"
     },
     "output_type": "display_data"
    }
   ],
   "source": [
    "print(\"variance:\", ser.var())\n",
    "print(\"stdev:\", ser.std(), np.sqrt(ser.var()))\n",
    "\n",
    "# TASK: create a histogram with both x1 and x2 data\n",
    "# make a prediction about the shape of each data's histogram\n",
    "plt.hist(x1)\n",
    "plt.hist(x2)\n",
    "plt.show()"
   ]
  }
 ],
 "metadata": {
  "kernelspec": {
   "display_name": "base",
   "language": "python",
   "name": "python3"
  },
  "language_info": {
   "codemirror_mode": {
    "name": "ipython",
    "version": 3
   },
   "file_extension": ".py",
   "mimetype": "text/x-python",
   "name": "python",
   "nbconvert_exporter": "python",
   "pygments_lexer": "ipython3",
   "version": "3.9.7"
  }
 },
 "nbformat": 4,
 "nbformat_minor": 2
}
