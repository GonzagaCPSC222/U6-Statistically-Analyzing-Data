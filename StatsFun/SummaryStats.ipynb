{
 "cells": [
  {
   "cell_type": "markdown",
   "metadata": {},
   "source": [
    "# Stats Overview\n",
    "Recall we said that instances are sampled from the \"universe of instances\"\n",
    "\n",
    "In stats, we say that a sample (of observations) comes from a population\n",
    "* dataset = sample\n",
    "* universe of instances = population\n",
    "\n",
    "Example\n",
    "* Population: all college students in the US\n",
    "    * Expensive to collect data from in terms of time, resources, etc.\n",
    "* Sample: students in CPSC 222\n",
    "    * Inexpensive\n",
    "\n",
    "Some more key stats terms\n",
    "* Parameter: any measurable characteristc of a population\n",
    "    * Example: $\\mu$ population mean\n",
    "* Statistic: any measureabkle characteristic of a sample\n",
    "    * Example: $\\overline{x}$ sample mean\n",
    "* Descriptive stats: stats that organize and summarize data\n",
    "    * Example: central tendency measures, data dispersion measures, etc.\n",
    "* Inferential stats: stats that infer something above and beyond what is known from the data\n",
    "    * Example: inferring something about the population based on a sample"
   ]
  },
  {
   "cell_type": "markdown",
   "metadata": {},
   "source": [
    "## Summary Stats\n",
    "Summarize a data distribution into a single value of a set of values. Examples:\n",
    "* Number of data points\n",
    "* Min and max\n",
    "    * Do not make sense for nominal attributes"
   ]
  },
  {
   "cell_type": "code",
   "execution_count": 1,
   "metadata": {},
   "outputs": [
    {
     "name": "stdout",
     "output_type": "stream",
     "text": [
      "0    6\n",
      "1    8\n",
      "2    3\n",
      "3    8\n",
      "4    8\n",
      "5    7\n",
      "dtype: int64\n",
      "Number of data points: 6 6 (6,)\n",
      "Min: 3 Max: 8\n"
     ]
    }
   ],
   "source": [
    "import pandas as pd\n",
    "\n",
    "x = [6, 8, 3, 8, 8, 7]\n",
    "ser = pd.Series(x)\n",
    "print(ser)\n",
    "print(\"Number of data points:\", len(ser), ser.size, ser.shape)\n",
    "print(\"Min:\", ser.min(), \"Max:\", ser.max())"
   ]
  }
 ],
 "metadata": {
  "kernelspec": {
   "display_name": "base",
   "language": "python",
   "name": "python3"
  },
  "language_info": {
   "codemirror_mode": {
    "name": "ipython",
    "version": 3
   },
   "file_extension": ".py",
   "mimetype": "text/x-python",
   "name": "python",
   "nbconvert_exporter": "python",
   "pygments_lexer": "ipython3",
   "version": "3.9.7"
  }
 },
 "nbformat": 4,
 "nbformat_minor": 2
}
