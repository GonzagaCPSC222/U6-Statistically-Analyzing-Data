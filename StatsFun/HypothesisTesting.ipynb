{
 "cells": [
  {
   "cell_type": "markdown",
   "metadata": {},
   "source": [
    "# Intro to Hypothesis Testing Lab\n",
    "## Example: One Sample Test of Means (2-tailed)"
   ]
  },
  {
   "cell_type": "code",
   "execution_count": 1,
   "metadata": {},
   "outputs": [
    {
     "name": "stdout",
     "output_type": "stream",
     "text": [
      "xbar: 29.0 s: 2.7774602993176543 n: 8 df: 7\n",
      "t computed: -2.0367003088692623\n"
     ]
    }
   ],
   "source": [
    "import numpy as np\n",
    "\n",
    "mpgs = [30, 28, 32, 26, 33, 25, 28, 30]\n",
    "xbar = np.mean(mpgs)\n",
    "s = np.std(mpgs, ddof=1)\n",
    "n = len(mpgs)\n",
    "df = n - 1\n",
    "print(\"xbar:\", xbar, \"s:\", s, \"n:\", n, \"df:\", df)\n",
    "\n",
    "t_computed = (xbar - 31) / (s / np.sqrt(n))\n",
    "print(\"t computed:\", t_computed)"
   ]
  },
  {
   "cell_type": "markdown",
   "metadata": {},
   "source": [
    "### Check Work with Scipy"
   ]
  },
  {
   "cell_type": "code",
   "execution_count": 2,
   "metadata": {},
   "outputs": [
    {
     "name": "stdout",
     "output_type": "stream",
     "text": [
      "scipy t computed: -2.0367003088692623 p val: 0.0811068697473857\n",
      "Do not reject H0\n"
     ]
    }
   ],
   "source": [
    "import scipy.stats as stats\n",
    "\n",
    "t_computed, p_val = stats.ttest_1samp(mpgs, 31)\n",
    "print(\"scipy t computed:\", t_computed, \"p val:\", p_val)\n",
    "alpha = 0.05\n",
    "if p_val < alpha:\n",
    "    print(\"Reject H0\")\n",
    "else:\n",
    "    print(\"Do not reject H0\")"
   ]
  },
  {
   "cell_type": "markdown",
   "metadata": {},
   "source": [
    "## Example: One Sample Test of Means (1-tailed)\n",
    "### With Scipy\n",
    "Note that for 1-tailed tests you need to divide scipy's p-value by 2!"
   ]
  },
  {
   "cell_type": "code",
   "execution_count": 3,
   "metadata": {},
   "outputs": [
    {
     "name": "stdout",
     "output_type": "stream",
     "text": [
      "scipy t computed: -2.0367003088692623 p val: 0.04055343487369285\n",
      "Reject H0\n"
     ]
    }
   ],
   "source": [
    "t_computed, p_val = stats.ttest_1samp(mpgs, 31)\n",
    "# when performing a one tailed test, you need to divide the pval by 2\n",
    "p_val /= 2\n",
    "print(\"scipy t computed:\", t_computed, \"p val:\", p_val)\n",
    "alpha = 0.05\n",
    "if p_val < alpha:\n",
    "    print(\"Reject H0\")\n",
    "else:\n",
    "    print(\"Do not reject H0\")"
   ]
  },
  {
   "cell_type": "markdown",
   "metadata": {},
   "source": [
    "# Two Sample Hypothesis Testing Lab\n",
    "## Example: 2 INDEPENDENT Samples (1-tailed)"
   ]
  },
  {
   "cell_type": "code",
   "execution_count": 4,
   "metadata": {},
   "outputs": [
    {
     "name": "stdout",
     "output_type": "stream",
     "text": [
      "t computed: 2.1851550736735224\n"
     ]
    }
   ],
   "source": [
    "# two sample, one-tailed independent test of means\n",
    "exp = [61, 102, 119, 128, 62, 158, 271, 57, 266, 137]\n",
    "cont = [24, 125, 43, 62, 32, 138, 53, 117, 97, 63]\n",
    "\n",
    "Xbar_exp = np.mean(exp)\n",
    "Xbar_cont = np.mean(cont)\n",
    "s_exp = np.std(exp, ddof=1)\n",
    "s_cont = np.std(cont, ddof=1)\n",
    "n_exp = len(exp)\n",
    "n_cont = len(cont)\n",
    "\n",
    "# pooled variance\n",
    "sp2 = ((n_exp - 1) * s_exp ** 2 + (n_cont - 1) * s_cont ** 2) / (n_exp + n_cont - 2)\n",
    "t_computed = (Xbar_exp - Xbar_cont) / np.sqrt(sp2 * (1 / n_exp + 1 / n_cont))\n",
    "print(\"t computed:\", t_computed)"
   ]
  },
  {
   "cell_type": "markdown",
   "metadata": {},
   "source": [
    "### Check Work with Scipy"
   ]
  },
  {
   "cell_type": "code",
   "execution_count": 5,
   "metadata": {},
   "outputs": [
    {
     "name": "stdout",
     "output_type": "stream",
     "text": [
      "scipy t computed: 2.1851550736735232 p val: 0.02117066199247144\n",
      "Reject H0\n"
     ]
    }
   ],
   "source": [
    "t_computed, p_val = stats.ttest_ind(exp, cont)\n",
    "# when performing a one tailed test, you need to divide the pval by 2\n",
    "p_val /= 2\n",
    "print(\"scipy t computed:\", t_computed, \"p val:\", p_val)\n",
    "alpha = 0.05\n",
    "if p_val < alpha:\n",
    "    print(\"Reject H0\")\n",
    "else:\n",
    "    print(\"Do not reject H0\")"
   ]
  },
  {
   "cell_type": "markdown",
   "metadata": {},
   "source": [
    "## Example: 2 DEPENDENT Samples (1-tailed)"
   ]
  },
  {
   "cell_type": "code",
   "execution_count": 6,
   "metadata": {},
   "outputs": [
    {
     "name": "stdout",
     "output_type": "stream",
     "text": [
      "t computed: 2.208963121532172\n"
     ]
    }
   ],
   "source": [
    "before = [45, 52, 34, 38, 47, 42, 61, 53, 52, 49]\n",
    "after = [49, 56, 31, 46, 54, 39, 68, 55, 50, 55]\n",
    "\n",
    "# calculate t manually\n",
    "diffs = []\n",
    "for i in range(len(after)):\n",
    "    diffs.append(after[i] - before[i])\n",
    "dbar = np.mean(diffs)\n",
    "sdbar = np.std(diffs, ddof=1) / np.sqrt(len(after))\n",
    "t_computed = dbar / sdbar\n",
    "print(\"t computed:\", t_computed)"
   ]
  },
  {
   "cell_type": "markdown",
   "metadata": {},
   "source": [
    "### Check Work with Scipy"
   ]
  },
  {
   "cell_type": "code",
   "execution_count": 7,
   "metadata": {},
   "outputs": [
    {
     "name": "stdout",
     "output_type": "stream",
     "text": [
      "scipy t computed: 2.208963121532172 p val: 0.027268707631662316\n",
      "Reject H0\n"
     ]
    }
   ],
   "source": [
    "t, p_val = stats.ttest_rel(after, before)\n",
    "# when performing a one tailed test, you need to divide the pval by 2\n",
    "p_val /= 2\n",
    "print(\"scipy t computed:\", t_computed, \"p val:\", p_val)\n",
    "alpha = 0.05\n",
    "if p_val < alpha:\n",
    "    print(\"Reject H0\")\n",
    "else:\n",
    "    print(\"Do not reject H0\")"
   ]
  }
 ],
 "metadata": {
  "kernelspec": {
   "display_name": "base",
   "language": "python",
   "name": "python3"
  },
  "language_info": {
   "codemirror_mode": {
    "name": "ipython",
    "version": 3
   },
   "file_extension": ".py",
   "mimetype": "text/x-python",
   "name": "python",
   "nbconvert_exporter": "python",
   "pygments_lexer": "ipython3",
   "version": "3.9.7"
  }
 },
 "nbformat": 4,
 "nbformat_minor": 2
}
