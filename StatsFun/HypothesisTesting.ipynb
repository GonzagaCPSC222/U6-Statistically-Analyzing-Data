{
 "cells": [
  {
   "cell_type": "markdown",
   "metadata": {},
   "source": [
    "# Intro to Hypothesis Testing Lab\n",
    "## Example: One Sample Test of Means (2-tailed)"
   ]
  },
  {
   "cell_type": "code",
   "execution_count": 2,
   "metadata": {},
   "outputs": [
    {
     "name": "stdout",
     "output_type": "stream",
     "text": [
      "xbar: 29.0 s: 2.7774602993176543 n: 8 df: 7\n",
      "t computed: -2.0367003088692623\n"
     ]
    }
   ],
   "source": [
    "import numpy as np\n",
    "\n",
    "mpgs = [30, 28, 32, 26, 33, 25, 28, 30]\n",
    "xbar = np.mean(mpgs)\n",
    "s = np.std(mpgs, ddof=1)\n",
    "n = len(mpgs)\n",
    "df = n - 1\n",
    "print(\"xbar:\", xbar, \"s:\", s, \"n:\", n, \"df:\", df)\n",
    "\n",
    "t_computed = (xbar - 31) / (s / np.sqrt(n))\n",
    "print(\"t computed:\", t_computed)"
   ]
  },
  {
   "cell_type": "code",
   "execution_count": 5,
   "metadata": {},
   "outputs": [
    {
     "name": "stdout",
     "output_type": "stream",
     "text": [
      "t computed: -2.0367003088692623 p val: 0.0811068697473857\n",
      "Do not reject H0\n"
     ]
    }
   ],
   "source": [
    "# check work with scipy\n",
    "import scipy.stats as stats\n",
    "\n",
    "t_computed, p_val = stats.ttest_1samp(mpgs, 31)\n",
    "print(\"t computed:\", t_computed, \"p val:\", p_val)\n",
    "alpha = 0.05\n",
    "if p_val < alpha:\n",
    "    print(\"Reject H0\")\n",
    "else:\n",
    "    print(\"Do not reject H0\")"
   ]
  }
 ],
 "metadata": {
  "kernelspec": {
   "display_name": "base",
   "language": "python",
   "name": "python3"
  },
  "language_info": {
   "codemirror_mode": {
    "name": "ipython",
    "version": 3
   },
   "file_extension": ".py",
   "mimetype": "text/x-python",
   "name": "python",
   "nbconvert_exporter": "python",
   "pygments_lexer": "ipython3",
   "version": "3.9.7"
  }
 },
 "nbformat": 4,
 "nbformat_minor": 2
}
