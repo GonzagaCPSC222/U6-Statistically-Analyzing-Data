{
 "cells": [
  {
   "cell_type": "markdown",
   "metadata": {},
   "source": [
    "## Confidence Intervals Example #1"
   ]
  },
  {
   "cell_type": "code",
   "execution_count": 1,
   "metadata": {},
   "outputs": [
    {
     "name": "stdout",
     "output_type": "stream",
     "text": [
      "xbar: 8.983333333333333 s: 1.2904074996494381\n",
      "margin of error: 0.81989133757425\n",
      "CI: (8.163441995759083, 9.803224670907582)\n"
     ]
    }
   ],
   "source": [
    "import numpy as np\n",
    "\n",
    "observations = [8.2, 9.1, 7.7, 8.6, 6.9, 11.2, 10.1, 9.9, 8.9, 9.2, 7.5, 10.5]\n",
    "\n",
    "xbar = np.mean(observations)\n",
    "s = np.std(observations, ddof=1) # is this the sample standard deviation?\n",
    "# by default, numpy's std calculates pop stdev: https://numpy.org/doc/stable/reference/generated/numpy.std.html\n",
    "t = 2.201 # from t dist with df = 11 and 95% CI\n",
    "n = len(observations)\n",
    "\n",
    "print(\"xbar:\", xbar, \"s:\", s)\n",
    "margin_of_error = t * s / np.sqrt(n)\n",
    "print(\"margin of error:\", margin_of_error)\n",
    "conf_interval = (xbar - margin_of_error, xbar + margin_of_error)\n",
    "print(\"CI:\", conf_interval)"
   ]
  },
  {
   "cell_type": "markdown",
   "metadata": {},
   "source": [
    "## Confidence Interval Visualization\n",
    "Here are a few ways (there are more!!)\n",
    "1. Scatterplot with a point for Xbar and a line for the confidence interval\n",
    "1. Bar chart where the height of the bar is Xbar and there are error lines for the confidence interval"
   ]
  },
  {
   "cell_type": "code",
   "execution_count": 2,
   "metadata": {},
   "outputs": [
    {
     "data": {
      "image/png": "[encoded data removed]",
      "text/plain": [
       "<Figure size 432x288 with 1 Axes>"
      ]
     },
     "metadata": {
      "needs_background": "light"
     },
     "output_type": "display_data"
    }
   ],
   "source": [
    "import matplotlib.pyplot as plt\n",
    "\n",
    "plt.scatter([1], [xbar])\n",
    "plt.plot([1, 1], conf_interval)\n",
    "plt.show()"
   ]
  },
  {
   "cell_type": "code",
   "execution_count": 3,
   "metadata": {},
   "outputs": [
    {
     "data": {
      "image/png": "[encoded data removed]",
      "text/plain": [
       "<Figure size 432x288 with 1 Axes>"
      ]
     },
     "metadata": {
      "needs_background": "light"
     },
     "output_type": "display_data"
    }
   ],
   "source": [
    "plt.bar([1], [xbar], yerr=margin_of_error, width=0.25)\n",
    "plt.xlim([0, 2])\n",
    "plt.ylim([0, 12])\n",
    "plt.xticks([1], [\"Hours of Sleep\"])\n",
    "plt.show()"
   ]
  }
 ],
 "metadata": {
  "kernelspec": {
   "display_name": "base",
   "language": "python",
   "name": "python3"
  },
  "language_info": {
   "codemirror_mode": {
    "name": "ipython",
    "version": 3
   },
   "file_extension": ".py",
   "mimetype": "text/x-python",
   "name": "python",
   "nbconvert_exporter": "python",
   "pygments_lexer": "ipython3",
   "version": "3.9.7"
  }
 },
 "nbformat": 4,
 "nbformat_minor": 2
}
